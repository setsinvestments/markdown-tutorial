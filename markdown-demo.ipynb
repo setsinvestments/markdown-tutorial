{
 "cells": [
  {
   "cell_type": "markdown",
   "id": "c9e003bf",
   "metadata": {},
   "source": [
    "__Headers__: Headers are used to create headings and subheadings. They are denoted by the # symbol followed by a space and the text. The number of # symbols represents the heading level (1-6).\n",
    "\n",
    "# H1\n",
    "## H2\n",
    "### H3\n",
    "#### H4\n",
    "##### H5\n",
    "###### H6"
   ]
  },
  {
   "cell_type": "markdown",
   "id": "20dba1e0",
   "metadata": {},
   "source": [
    "**Emphasis**: You can create italic text by wrapping the text with * or _. To create bold text, use ** or __. To create bold and italic text, use *** or ___.\n",
    "\n",
    "*Italic* or _Italic_\n",
    "**Bold** or __Bold__\n",
    "***Bold and Italic*** or ___Bold and Italic___\n"
   ]
  },
  {
   "cell_type": "markdown",
   "id": "0d6e72b2",
   "metadata": {},
   "source": [
    "**Lists**: You can create ordered and unordered lists using numbers and -, *, or +.\n",
    "\n",
    "*Unordered list*:\n",
    "- Item 1\n",
    "* Item 2\n",
    "+ Item 3\n",
    "\n",
    "*Ordered list*:\n",
    "1. Item 1\n",
    "2. Item 2\n",
    "3. Item 3\n"
   ]
  },
  {
   "cell_type": "markdown",
   "id": "f78dca08",
   "metadata": {},
   "source": [
    "_Links_: Create links using the format [link text](URL). Optionally, you can add a title that appears when hovering over the link: [link text](URL \"title\").\n",
    "\n",
    "[Google](www.google.com.sg)\n",
    "\n",
    "[GitHub](wwww.github.com.sg)"
   ]
  },
  {
   "cell_type": "markdown",
   "id": "c243eea7",
   "metadata": {},
   "source": [
    "**Blockquotes**: Create a blockquote by adding a > symbol at the beginning of a line.\n",
    "\n",
    "> This is a blockquote.\n",
    "> It can span multiple lines by adding '>' at the beginning of each line.\n"
   ]
  },
  {
   "cell_type": "markdown",
   "id": "c596f58c",
   "metadata": {},
   "source": [
    "**Inline code**: Use backticks (`) to display inline code.\n",
    "\n",
    "This is an example of `inline code`.\n"
   ]
  },
  {
   "cell_type": "markdown",
   "id": "a5bf7934",
   "metadata": {},
   "source": [
    "**Code blocks**: Create a code block by wrapping your code with triple backticks (```) \n",
    "    or by indenting each line with four spaces.\n",
    "    \n",
    "    def add(x, y):\n",
    "        return x + y"
   ]
  },
  {
   "cell_type": "markdown",
   "id": "faad9e08",
   "metadata": {},
   "source": [
    "**Tables**: Create tables using pipes (|) and hyphens (-). The pipes separate columns, and the hyphens create the header row. Align text in columns using colons (:).\n",
    "\n",
    "| Header 1 | Header 2 | Header 3 |\n",
    "|:-------- |:-------: |--------:|\n",
    "| Left     | Center   | Right   |\n",
    "| Text     | Text     | Text    |\n"
   ]
  },
  {
   "cell_type": "markdown",
   "id": "4e0c41df",
   "metadata": {},
   "source": [
    "**Horizontal rules**: Add a horizontal rule using three or more hyphens (---), asterisks (***), or underscores (___).\n",
    "    \n",
    "---\n",
    "***\n",
    "___\n"
   ]
  },
  {
   "cell_type": "markdown",
   "id": "55373aea",
   "metadata": {},
   "source": [
    "*Escaping characters*: Use a backslash (\\) to escape special characters and display them as literal characters.\n",
    "\n",
    "\\*This text is not italic\\*\n"
   ]
  },
  {
   "cell_type": "markdown",
   "id": "e9e4d89f",
   "metadata": {},
   "source": [
    "**Task lists**: Create a task list using - [ ] for an empty checkbox and - [x] for a checked one. Task lists are commonly used in GitHub issues and pull requests.\n",
    "\n",
    "- [ ] Task 1\n",
    "- [x] Task 2 (completed)\n",
    "- [ ] Task 3\n"
   ]
  },
  {
   "cell_type": "markdown",
   "id": "deb8dc79",
   "metadata": {},
   "source": [
    "**Strikethrough**: Create strikethrough text by wrapping the text with ~~.\n",
    "    \n",
    "~~Strikethrough text~~\n"
   ]
  },
  {
   "cell_type": "markdown",
   "id": "4c5bbb6b",
   "metadata": {},
   "source": [
    "**Automatic links**: Automatically turn URLs or email addresses into clickable links by enclosing them in angle brackets (< and >).\n",
    "\n",
    "<https://www.example.com>\n",
    "\n",
    "<email@example.com>\n"
   ]
  },
  {
   "cell_type": "markdown",
   "id": "55969c6f",
   "metadata": {},
   "source": [
    "**Footnotes**: Add footnotes using the format [^identifier] for the reference in the text and [^identifier]: \n",
    "        for the actual footnote. \n",
    "        Note that not all Markdown renderers support footnotes.\n",
    "        \n",
    "Here's some text with a footnote.[^1]\n",
    "\n",
    "[^1]: This is the footnote text.\n"
   ]
  },
  {
   "cell_type": "markdown",
   "id": "799f1a77",
   "metadata": {},
   "source": [
    "**Abbreviations**: Define abbreviations using the format *[ABBR]: explanation. \n",
    "        Note that not all Markdown renderers support abbreviations.\n",
    "        \n",
    "Markdown supports *[HTML]: HyperText Markup Language.\n"
   ]
  },
  {
   "cell_type": "code",
   "execution_count": null,
   "id": "ae6adc33",
   "metadata": {},
   "outputs": [],
   "source": []
  }
 ],
 "metadata": {
  "kernelspec": {
   "display_name": "Python 3 (ipykernel)",
   "language": "python",
   "name": "python3"
  },
  "language_info": {
   "codemirror_mode": {
    "name": "ipython",
    "version": 3
   },
   "file_extension": ".py",
   "mimetype": "text/x-python",
   "name": "python",
   "nbconvert_exporter": "python",
   "pygments_lexer": "ipython3",
   "version": "3.11.2"
  }
 },
 "nbformat": 4,
 "nbformat_minor": 5
}
